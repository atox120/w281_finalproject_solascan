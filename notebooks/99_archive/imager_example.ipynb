{
 "cells": [
  {
   "cell_type": "code",
   "execution_count": 4,
   "id": "17f61d69",
   "metadata": {},
   "outputs": [
    {
     "name": "stdout",
     "output_type": "stream",
     "text": [
      "The autoreload extension is already loaded. To reload it, use:\n",
      "  %reload_ext autoreload\n"
     ]
    }
   ],
   "source": [
    "%load_ext autoreload\n",
    "%autoreload 2"
   ]
  },
  {
   "cell_type": "code",
   "execution_count": 5,
   "id": "424c15f6",
   "metadata": {},
   "outputs": [],
   "source": [
    "import os\n",
    "import sys\n",
    "import time\n",
    "sys.path.append(os.path.join(os.path.abspath(\"\"), \"..\"))\n",
    "\n",
    "from app.imager import ImageLoader, DefectViewer\n",
    "from app.transforms import *\n",
    "from app.filters import *\n",
    "from app.utils import *"
   ]
  },
  {
   "cell_type": "code",
   "execution_count": 9,
   "id": "b5cfa974",
   "metadata": {},
   "outputs": [],
   "source": [
    "## load 1000 images with any class except 'Closed' ##\n",
    "n_samples = 1000  # Number of samples of images\n",
    "images_without = ImageLoader(defect_class='Closed', is_not=True) << n_samples  "
   ]
  },
  {
   "cell_type": "code",
   "execution_count": 10,
   "id": "af7f77bb",
   "metadata": {},
   "outputs": [
    {
     "data": {
      "text/plain": [
       "NearSolderPad            524\n",
       "Resistive                194\n",
       "None                     111\n",
       "Isolated                 100\n",
       "BrightSpot                22\n",
       "HighlyResistive           22\n",
       "FrontGridInterruption     16\n",
       "Disconnected               5\n",
       "Corrosion                  4\n",
       "Unknown                    2\n",
       "Name: defect_class, dtype: int64"
      ]
     },
     "execution_count": 10,
     "metadata": {},
     "output_type": "execute_result"
    }
   ],
   "source": [
    "images_without.defect_class.value_counts()"
   ]
  },
  {
   "cell_type": "code",
   "execution_count": 11,
   "id": "a78e299d",
   "metadata": {},
   "outputs": [],
   "source": [
    "# Load 1000 images with only closed cracks ##\n",
    "n_samples = 1000  # Number of samples of images\n",
    "images_with = ImageLoader(defect_class='Closed', is_not=False) << n_samples "
   ]
  },
  {
   "cell_type": "code",
   "execution_count": 12,
   "id": "aa50713a",
   "metadata": {},
   "outputs": [
    {
     "data": {
      "text/plain": [
       "Closed    1000\n",
       "Name: defect_class, dtype: int64"
      ]
     },
     "execution_count": 12,
     "metadata": {},
     "output_type": "execute_result"
    }
   ],
   "source": [
    "images_with.defect_class.value_counts()"
   ]
  },
  {
   "cell_type": "code",
   "execution_count": 13,
   "id": "b2368be2",
   "metadata": {},
   "outputs": [],
   "source": [
    "## Load 1000 images without any cracks ##\n",
    "n_samples = 1000  # Number of samples of images\n",
    "images_without = ImageLoader(defect_class=['Closed', 'Resistive', 'Isolated'], is_not=True) << n_samples"
   ]
  },
  {
   "cell_type": "code",
   "execution_count": 14,
   "id": "5237a82c",
   "metadata": {},
   "outputs": [
    {
     "data": {
      "text/plain": [
       "NearSolderPad            746\n",
       "None                     159\n",
       "HighlyResistive           34\n",
       "BrightSpot                23\n",
       "Disconnected              16\n",
       "FrontGridInterruption      9\n",
       "Corrosion                  7\n",
       "Unknown                    4\n",
       "BeltMarks                  2\n",
       "Name: defect_class, dtype: int64"
      ]
     },
     "execution_count": 14,
     "metadata": {},
     "output_type": "execute_result"
    }
   ],
   "source": [
    "images_without.defect_class.value_counts()"
   ]
  },
  {
   "cell_type": "code",
   "execution_count": null,
   "id": "a566d939",
   "metadata": {},
   "outputs": [],
   "source": []
  }
 ],
 "metadata": {
  "kernelspec": {
   "display_name": "Python 3 (ipykernel)",
   "language": "python",
   "name": "python3"
  },
  "language_info": {
   "codemirror_mode": {
    "name": "ipython",
    "version": 3
   },
   "file_extension": ".py",
   "mimetype": "text/x-python",
   "name": "python",
   "nbconvert_exporter": "python",
   "pygments_lexer": "ipython3",
   "version": "3.8.12"
  }
 },
 "nbformat": 4,
 "nbformat_minor": 5
}
