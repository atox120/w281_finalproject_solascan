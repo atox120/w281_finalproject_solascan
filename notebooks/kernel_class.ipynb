{
 "cells": [
  {
   "cell_type": "code",
   "execution_count": null,
   "outputs": [],
   "source": [
    "# import some packages\n",
    "import numpy as np\n",
    "import matplotlib.pyplot as plt\n",
    "\n",
    "# Path to images\n",
    "im_pth = \"../data/images/\"\n",
    "\n",
    "img_list = [\n",
    "    'M0616C002000.jpg',\n",
    "    'M0630C049000.jpg',\n",
    "    'M0633C028000.jpg',\n",
    "    'M0630C042000.jpg',\n",
    "    'M0571C038000.jpg',\n",
    "    'M0631C027000.jpg',\n",
    "    'M0714C026000.jpg',\n",
    "    'M0640C051000.jpg'\n",
    "]\n",
    "\n",
    "non_defective = [\n",
    "    'M0377C017010.jpg', \n",
    "    'Bent Cure 0Pa TestName_20201222_165250.586_C034.jpg'\n",
    "]"
   ],
   "metadata": {
    "collapsed": false,
    "pycharm": {
     "name": "#%%\n"
    }
   }
  },
  {
   "cell_type": "code",
   "execution_count": null,
   "outputs": [],
   "source": [
    "def plot_imgs(img_array, img_labels):\n",
    "    \n",
    "    #Plot OK\n",
    "    n = len(img_array)\n",
    "    # Work out the number of rows\n",
    "    n_rows = int((n / 2) if (n % 2 == 0) else ((n + 1) / 2))\n",
    "\n",
    "    fig, axs = plt.subplots(nrows=n_rows, ncols=2, figsize=(8,8))\n",
    "\n",
    "    if n_rows == 1:\n",
    "        for i in range(n):\n",
    "            axs[i].set_title(img_labels[i])\n",
    "            axs[i].imshow(img_array[i])\n",
    "\n",
    "    else:\n",
    "        k=0\n",
    "        for i in range(n_rows):\n",
    "            for j in range(2):\n",
    "                axs[i][j].set_title(img_labels[k])\n",
    "                axs[i][j].imshow(img_array[k])\n",
    "                k += 1"
   ],
   "metadata": {
    "collapsed": false,
    "pycharm": {
     "name": "#%%\n"
    }
   }
  },
  {
   "cell_type": "code",
   "execution_count": null,
   "outputs": [],
   "source": [
    "# Load files\n",
    "img_array_ok = [plt.imread(f'{im_pth}'+i) for i in non_defective]\n",
    "img_array_defected = [plt.imread(f'{im_pth}'+i) for i in img_list]\n",
    "\n",
    "#Plot OK\n",
    "plot_imgs(img_array_ok, non_defective)"
   ],
   "metadata": {
    "collapsed": false,
    "pycharm": {
     "name": "#%%\n"
    }
   }
  },
  {
   "cell_type": "code",
   "execution_count": null,
   "outputs": [],
   "source": [
    "from scipy.signal import convolve2d as sig_convolve2d\n",
    "from scipy.ndimage import convolve1d as nd_convolve1d\n",
    "from scipy.signal.windows import gaussian\n",
    "\n",
    "class Kernel:\n",
    "    \"\"\"\n",
    "    Creates and applies a filter to an input image.\n",
    "    \"\"\"\n",
    "    \n",
    "    def __init__(self, dim=2, kernel='gaussian', **kwargs):\n",
    "        \"\"\"\n",
    "        \n",
    "        :param dim:\n",
    "        :param kernel: Type of kernel to create options include:\n",
    "            'gaussian': gaussian kernel\n",
    "            'custom': custom specified kernel\n",
    "        :return:\n",
    "        \"\"\"\n",
    "        \n",
    "        self.dim = dim\n",
    "        self.missing_list = []\n",
    "        self.kernel_params = kwargs\n",
    "        \n",
    "        # Create a gaussian kernel\n",
    "        if kernel=='gaussian':\n",
    "            # Check all parameters are passed\n",
    "            self.required_params = ['convolve_mode', 'boundary', 'size', 'std']\n",
    "            self.check_required_params()\n",
    "            \n",
    "            self.kernel_type = kernel\n",
    "            self.kernel_val = self.generate_gaussian_kernel() \n",
    "        \n",
    "        # pass a custom kernel\n",
    "        elif kernel == 'custom':\n",
    "            # Check all parameters are passed\n",
    "            self.required_params = ['convolve_mode', 'boundary', 'custom_kernel']\n",
    "            self.check_required_params()\n",
    "            \n",
    "            self.kernel_type = kernel\n",
    "            self.kernel_params = kwargs\n",
    "            self.kernel_val = self.kernel_params['custom_kernel'] \n",
    "            \n",
    "        else:\n",
    "            raise ValueError('Kernel type not recognised. Allowable values: gaussian.')\n",
    "           \n",
    "        # Check all required parameters are there:\n",
    "        if len(self.missing_list) > 0:\n",
    "            raise ValueError(f'Missing required parameters: {self.missing_list}')\n",
    "            \n",
    "    def __lshift__(self, in_img):\n",
    "        \"\"\"\n",
    "        Applies a kernel to an image and returns that image with the kernel applied. \n",
    "        :param in_img:\n",
    "        :return:  \n",
    "        \"\"\"\n",
    "        return self.apply_filter(in_img)\n",
    "    \n",
    "    def check_required_params(self):\n",
    "        \"\"\"\n",
    "        Checks that all the required kwargs have been passed\n",
    "        \"\"\"\n",
    "        \n",
    "        for param in self.required_params:\n",
    "            if param not in self.kernel_params.keys():\n",
    "                missing_list.append(param)\n",
    "            else:\n",
    "                pass\n",
    "        \n",
    "    def generate_gaussian_kernel(self):\n",
    "        \"\"\"\n",
    "        Generates a gaussian kernel\n",
    "        \n",
    "        self.key\n",
    "        \n",
    "        \"\"\"\n",
    "        #Extract size and sigma\n",
    "        size = self.kernel_params['size']\n",
    "        std = self.kernel_params['std']\n",
    "        \n",
    "        # Create 1d kernel\n",
    "        gaussian_1d = gaussian(size, std, sym=True)\n",
    "                  \n",
    "        if self.dim == 1:\n",
    "            return gaussian_1d / gaussian_1d.sum()\n",
    "        \n",
    "        elif self.dim == 2:\n",
    "            #Create 2d filter and normalise \n",
    "            gaussian_2d = np.outer(gaussian_1d, gaussian_1d)\n",
    "            return gaussian_2d / gaussian_2d.sum()\n",
    "                         \n",
    "    \n",
    "    def apply_filter(self, in_img):\n",
    "        \"\"\"\n",
    "        Wrapper for the scipy.signal.convolve2d method:\n",
    "        https://docs.scipy.org/doc/scipy/reference/generated/scipy.signal.convolve2d.html#scipy.signal.convolve2d\n",
    "        Wrapper for the scipy.signal.convolve1d method:\n",
    "        https://docs.scipy.org/doc/scipy/reference/generated/scipy.ndimage.convolve1d.html\n",
    "        \n",
    "        :param in_img: The array to apply the filter to\n",
    "        :return: array with the filter applied\n",
    "        \"\"\"          \n",
    "        \n",
    "        if self.dim == 1:\n",
    "            return nd_convolve1d(in_img, self.kernel_val, mode='wrap')\n",
    "        \n",
    "        elif self.dim == 2:\n",
    "            #Create 2d filter and normalise \n",
    "            return sig_convolve2d(in_img, self.kernel_val, \n",
    "                                  mode = self.kernel_params['convolve_mode'],\n",
    "                                  boundary = self.kernel_params['boundary'])\n",
    "        \n",
    "        \n",
    "        "
   ],
   "metadata": {
    "collapsed": false,
    "pycharm": {
     "name": "#%%\n"
    }
   }
  },
  {
   "cell_type": "code",
   "execution_count": null,
   "outputs": [],
   "source": [
    "import cv2\n",
    "img = cv2.cvtColor(cv2.imread(im_pth+non_defective[0]), cv2.COLOR_BGR2GRAY) "
   ],
   "metadata": {
    "collapsed": false,
    "pycharm": {
     "name": "#%%\n"
    }
   }
  },
  {
   "cell_type": "code",
   "execution_count": null,
   "outputs": [],
   "source": [
    "plt.imshow(img)"
   ],
   "metadata": {
    "collapsed": false,
    "pycharm": {
     "name": "#%%\n"
    }
   }
  },
  {
   "cell_type": "code",
   "execution_count": null,
   "outputs": [],
   "source": [
    "gaussian_filter2d = Kernel(dim=2, kernel='gaussian',\n",
    "                        convolve_mode='full',boundary='wrap', size=10, std=2)\n",
    "\n",
    "plt.imshow(gaussian_filter2d << img)"
   ],
   "metadata": {
    "collapsed": false,
    "pycharm": {
     "name": "#%%\n"
    }
   }
  },
  {
   "cell_type": "code",
   "execution_count": null,
   "outputs": [],
   "source": [
    "gaussian_filter1d = Kernel(dim=1, kernel='gaussian',\n",
    "                        convolve_mode='full',boundary='wrap', size=10, std=2)\n",
    "plt.imshow(gaussian_filter1d << img)"
   ],
   "metadata": {
    "collapsed": false,
    "pycharm": {
     "name": "#%%\n"
    }
   }
  },
  {
   "cell_type": "code",
   "execution_count": null,
   "outputs": [],
   "source": [
    "sobel = np.array([[1,0,-1],[2,0,-2],[1,0,-1]])\n",
    "\n",
    "custom_filter2d = Kernel(dim=2, kernel='custom',\n",
    "                        convolve_mode='full',boundary='wrap', \n",
    "                        custom_kernel=sobel)\n",
    "\n",
    "plt.imshow(custom_filter2d << img)"
   ],
   "metadata": {
    "collapsed": false,
    "pycharm": {
     "name": "#%%\n"
    }
   }
  },
  {
   "cell_type": "code",
   "execution_count": null,
   "outputs": [],
   "source": [
    "sobel = np.array([[1,0,-1],[2,0,-2],[1,0,-1]])\n",
    "\n",
    "custom_filter2d = Kernel(dim=2, kernel='custom',\n",
    "                        convolve_mode='full',boundary='wrap', \n",
    "                        custom_kernel=sobel.T)\n",
    "\n",
    "plt.imshow(custom_filter2d << img)"
   ],
   "metadata": {
    "collapsed": false,
    "pycharm": {
     "name": "#%%\n"
    }
   }
  }
 ],
 "metadata": {
  "kernelspec": {
   "display_name": "Python 3 (ipykernel)",
   "language": "python",
   "name": "python3"
  },
  "language_info": {
   "codemirror_mode": {
    "name": "ipython",
    "version": 3
   },
   "file_extension": ".py",
   "mimetype": "text/x-python",
   "name": "python",
   "nbconvert_exporter": "python",
   "pygments_lexer": "ipython3",
   "version": "3.7.4"
  }
 },
 "nbformat": 4,
 "nbformat_minor": 5
}