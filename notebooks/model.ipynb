{
 "cells": [
  {
   "cell_type": "code",
   "execution_count": 1,
   "id": "2167aa27-00d8-4bb9-8018-216d9796120e",
   "metadata": {
    "pycharm": {
     "name": "#%%\n"
    }
   },
   "outputs": [],
   "source": [
    "%load_ext autoreload\n",
    "%autoreload 2"
   ]
  },
  {
   "cell_type": "code",
   "execution_count": 2,
   "id": "bd1831ff-8aa2-4ce7-bc8e-a2b7c567d280",
   "metadata": {
    "pycharm": {
     "name": "#%%\n"
    }
   },
   "outputs": [],
   "source": [
    "import os\n",
    "import sys\n",
    "import copy\n",
    "import time\n",
    "import tabulate\n",
    "import numpy as np\n",
    "from sklearn.linear_model import LogisticRegression\n",
    "from sklearn.ensemble import GradientBoostingClassifier, ExtraTreesClassifier\n",
    "sys.path.append(os.path.join(os.path.abspath(\"\"), \"..\"))"
   ]
  },
  {
   "cell_type": "code",
   "execution_count": 3,
   "id": "fe0c3332-e7d2-47c6-934a-bbbaf14f4724",
   "metadata": {
    "pycharm": {
     "name": "#%%\n"
    }
   },
   "outputs": [],
   "source": [
    "from app import model_features\n",
    "from app.models import Classifier\n",
    "from app.model_features import get_samples, get_data_handler\n",
    "from app.imager import ImageLoader, DefectViewer, Show, Exposure"
   ]
  },
  {
   "cell_type": "markdown",
   "id": "b45486eb-021c-4be4-bb8c-91337db68e83",
   "metadata": {},
   "source": [
    "## Setup"
   ]
  },
  {
   "cell_type": "code",
   "execution_count": 4,
   "id": "42601368-e189-4bc7-aa78-e2553a4ea1c9",
   "metadata": {},
   "outputs": [],
   "source": [
    "# Complimentary:\n",
    "# If True: Split the data as Category and all other\n",
    "# If False: Split the data as Category and None\n",
    "complimentary = True\n",
    "\n",
    "# Maximum number of samples to choose for defects\n",
    "# The other class is 2X this number\n",
    "num_samples = 2000\n",
    "\n",
    "# Seed for plotting\n",
    "seed = 1234"
   ]
  },
  {
   "cell_type": "code",
   "execution_count": 5,
   "id": "11f4e18c",
   "metadata": {
    "pycharm": {
     "name": "#%%\n"
    }
   },
   "outputs": [],
   "source": [
    "# Analyzing which defect types:\n",
    "model_defect_classes = [('FrontGridInterruption', 'NearSolderPad'), 'Closed', 'Isolated', \n",
    "                        'BrightSpot', 'Corrosion', 'Resistive']"
   ]
  },
  {
   "cell_type": "code",
   "execution_count": 6,
   "id": "e03fdf37-1fd1-484b-a0a2-c78ec0c02b4f",
   "metadata": {},
   "outputs": [],
   "source": [
    "# Analyzing which defect\n",
    "model_params = {('FrontGridInterruption', 'NearSolderPad'):\n",
    "            {'class': GradientBoostingClassifier, 'n_estimators': 600, 'max_depth': 4,\n",
    "             'learning_rate': 0.05, 'pca_dims': min(250, num_samples)},\n",
    "            'Closed': {'class': LogisticRegression, 'penalty': 'l2', 'pca_dims': min(200, num_samples)},\n",
    "            'Isolated': {'class': GradientBoostingClassifier, 'n_estimators': 300, 'max_depth': 4,\n",
    "                         'learning_rate': 0.1, 'pca_dims': min(160, num_samples)},\n",
    "            'BrightSpot': {'class': LogisticRegression, 'penalty': 'l2', 'pca_dims': None},\n",
    "            'Corrosion': {'class': LogisticRegression, 'penalty': 'l2', 'pca_dims': None},\n",
    "            'Resistive':  {'class': ExtraTreesClassifier, 'max_features': 0.1, 'min_samples_split': 8,\n",
    "                           'random_state': 32}}"
   ]
  },
  {
   "cell_type": "markdown",
   "id": "2353aded-5cba-4ebb-9150-2627c3a662f4",
   "metadata": {},
   "source": [
    "## Main loop for creating models and running evaluations"
   ]
  },
  {
   "cell_type": "code",
   "execution_count": 7,
   "id": "9a997b76-5446-4cf8-aebb-bb5b8d01c845",
   "metadata": {},
   "outputs": [],
   "source": [
    "model_objects = []\n",
    "model_classes = []\n",
    "model_data_handlers = []"
   ]
  },
  {
   "cell_type": "code",
   "execution_count": 8,
   "id": "ee2bf236",
   "metadata": {
    "collapsed": false,
    "jupyter": {
     "outputs_hidden": false
    },
    "pycharm": {
     "name": "#%%\n"
    }
   },
   "outputs": [
    {
     "name": "stdout",
     "output_type": "stream",
     "text": [
      "Working on ('FrontGridInterruption', 'NearSolderPad')\n",
      "model_features.grid_interruption\n",
      "Others\n",
      " GridInterruption - Preprocessed\n",
      "Completed ('FrontGridInterruption', 'NearSolderPad') in 331.5556781030027s\n",
      "Working on Closed\n",
      "model_features.closed\n",
      "0 images were rejected\n"
     ]
    },
    {
     "name": "stderr",
     "output_type": "stream",
     "text": [
      "/home/aswin/Documents/MIDS/w281/w281_finalproject_solascan/notebooks/../app/imager.py:785: RuntimeWarning: invalid value encountered in true_divide\n",
      "  out_img = (in_imgs - all_min) / (all_max - all_min)\n"
     ]
    },
    {
     "name": "stdout",
     "output_type": "stream",
     "text": [
      "Failed on count 367\n",
      "Failed on count 1614\n",
      "2 images were rejected\n",
      "Others\n",
      " Closed - Preprocessed\n"
     ]
    },
    {
     "name": "stderr",
     "output_type": "stream",
     "text": [
      "/home/aswin/anaconda3/envs/w281_final_project/lib/python3.7/site-packages/sklearn/linear_model/_logistic.py:818: ConvergenceWarning: lbfgs failed to converge (status=1):\n",
      "STOP: TOTAL NO. of ITERATIONS REACHED LIMIT.\n",
      "\n",
      "Increase the number of iterations (max_iter) or scale the data as shown in:\n",
      "    https://scikit-learn.org/stable/modules/preprocessing.html\n",
      "Please also refer to the documentation for alternative solver options:\n",
      "    https://scikit-learn.org/stable/modules/linear_model.html#logistic-regression\n",
      "  extra_warning_msg=_LOGISTIC_SOLVER_CONVERGENCE_MSG,\n"
     ]
    },
    {
     "name": "stdout",
     "output_type": "stream",
     "text": [
      "Completed Closed in 255.12294465501327s\n",
      "Working on Isolated\n",
      "model_features.isolated\n",
      "0 images were rejected\n",
      "Failed on count 626\n",
      "1 images were rejected\n",
      "Others\n",
      " Closed - Preprocessed\n",
      "Completed Isolated in 38.4559089189861s\n",
      "Working on BrightSpot\n",
      "model_features.brightspots\n",
      "0 were rejected\n",
      "0 were rejected\n",
      "Others\n",
      " Brightspots - Gaussian Blur - Fourier Transform\n"
     ]
    },
    {
     "name": "stderr",
     "output_type": "stream",
     "text": [
      "/home/aswin/anaconda3/envs/w281_final_project/lib/python3.7/site-packages/sklearn/linear_model/_logistic.py:818: ConvergenceWarning: lbfgs failed to converge (status=1):\n",
      "STOP: TOTAL NO. of ITERATIONS REACHED LIMIT.\n",
      "\n",
      "Increase the number of iterations (max_iter) or scale the data as shown in:\n",
      "    https://scikit-learn.org/stable/modules/preprocessing.html\n",
      "Please also refer to the documentation for alternative solver options:\n",
      "    https://scikit-learn.org/stable/modules/linear_model.html#logistic-regression\n",
      "  extra_warning_msg=_LOGISTIC_SOLVER_CONVERGENCE_MSG,\n"
     ]
    },
    {
     "name": "stdout",
     "output_type": "stream",
     "text": [
      "Completed BrightSpot in 23.122973824007204s\n",
      "Working on Corrosion\n",
      "model_features.generic_return\n",
      "Others\n",
      " processed\n"
     ]
    },
    {
     "name": "stderr",
     "output_type": "stream",
     "text": [
      "/home/aswin/anaconda3/envs/w281_final_project/lib/python3.7/site-packages/sklearn/linear_model/_logistic.py:818: ConvergenceWarning: lbfgs failed to converge (status=1):\n",
      "STOP: TOTAL NO. of ITERATIONS REACHED LIMIT.\n",
      "\n",
      "Increase the number of iterations (max_iter) or scale the data as shown in:\n",
      "    https://scikit-learn.org/stable/modules/preprocessing.html\n",
      "Please also refer to the documentation for alternative solver options:\n",
      "    https://scikit-learn.org/stable/modules/linear_model.html#logistic-regression\n",
      "  extra_warning_msg=_LOGISTIC_SOLVER_CONVERGENCE_MSG,\n"
     ]
    },
    {
     "name": "stdout",
     "output_type": "stream",
     "text": [
      "Completed Corrosion in 6.766703513014363s\n",
      "Working on Resistive\n",
      "model_features.resistive\n"
     ]
    },
    {
     "name": "stderr",
     "output_type": "stream",
     "text": [
      "/home/aswin/Documents/MIDS/w281/w281_finalproject_solascan/notebooks/../app/transforms.py:203: RuntimeWarning: divide by zero encountered in log10\n",
      "  magnitude = np.log10(np.abs(transformed))\n"
     ]
    },
    {
     "name": "stdout",
     "output_type": "stream",
     "text": [
      "Others\n",
      " ResistiveCrack - Preprocessed\n",
      "Completed Resistive in 784.4858371959999s\n"
     ]
    }
   ],
   "source": [
    "# For each defect class, create the DataSet\n",
    "for cnt, defect_classes in enumerate(model_defect_classes):\n",
    "    if len(model_objects) >= cnt + 1:\n",
    "        continue\n",
    "        \n",
    "    print(f'Working on {defect_classes}')\n",
    "    start = time.perf_counter()\n",
    "    model_param = model_params[defect_classes]\n",
    "    \n",
    "    # Get the samples for the model\n",
    "    if isinstance(defect_classes, tuple):\n",
    "        classes = list(defect_classes)\n",
    "    else:\n",
    "        classes = defect_classes\n",
    "    \n",
    "    # Get the data for modeling\n",
    "    defect, not_defect = get_samples(classes, num_samples, complimentary=complimentary)\n",
    "    \n",
    "    # Get the data handler \n",
    "    data_handler = get_data_handler(defect_classes)\n",
    "    \n",
    "    # Get the pre processed data for this \n",
    "    defect_ = data_handler(defect, num_jobs=20)\n",
    "    not_defect_ = data_handler(not_defect, num_jobs=20)\n",
    "    print(not_defect_.category)\n",
    "    \n",
    "    # Show the pre and post processed images\n",
    "    # _ = Show(num_images=2, seed=seed) << (defect, defect_) + (not_defect, not_defect_)\n",
    "    \n",
    "    # Get the parameter for this classifier\n",
    "    this_param = copy.deepcopy(model_param)\n",
    "    model_class = this_param['class']\n",
    "    del this_param['class']\n",
    "    \n",
    "#     # Train the classifier \n",
    "#     print(defect_classes)\n",
    "#     cla = Classifier(defect_, not_defect_, model_class, None)\n",
    "#     score = cla.fit_cv(**this_param)\n",
    "    \n",
    "#     # Misclassified\n",
    "#     print(score)\n",
    "#     conf, out = cla.misclassified()\n",
    "#     print(tabulate.tabulate([['True 0', conf[0, 0], conf[0, 1]], ['True 1', conf[1, 0], conf[1, 1]]], headers=['', 'Pred 0', 'Pred 1']))\n",
    "    \n",
    "    # Train the classifier \n",
    "    cla = Classifier(defect_, not_defect_, model_class, None)\n",
    "    model = cla.fit(**this_param)\n",
    "    \n",
    "    model_objects.append(model)\n",
    "    model_classes.append(defect_classes)\n",
    "    model_data_handlers.append(data_handler)\n",
    "    \n",
    "    print(f'Completed {defect_classes} in {time.perf_counter()-start}s')"
   ]
  },
  {
   "cell_type": "markdown",
   "id": "edcf47c6-0d3e-4fc1-95b4-ebd7e06f7dc8",
   "metadata": {},
   "source": [
    "## Combine the models together and calculate score"
   ]
  },
  {
   "cell_type": "code",
   "execution_count": 9,
   "id": "b496fcda-9941-43a4-921b-b868bb9825cd",
   "metadata": {},
   "outputs": [],
   "source": [
    "img = ImageLoader(defect_class=None, do_train=False)\n",
    "filename_df = img.get(n=1000)\n",
    "filename_df = DefectViewer(row_chop=15, col_chop=15).get(filename_df)"
   ]
  },
  {
   "cell_type": "code",
   "execution_count": 10,
   "id": "bfc6ba7a-a8fe-486c-b5a7-f17c82cf6845",
   "metadata": {},
   "outputs": [
    {
     "name": "stdout",
     "output_type": "stream",
     "text": [
      "[('FrontGridInterruption', 'NearSolderPad'), ('Closed',), ('Isolated',), ('BrightSpot',), ('Corrosion',), ('Resistive',)]\n"
     ]
    }
   ],
   "source": [
    "from app.models import VectorClassifier\n",
    "vc = VectorClassifier(model_objects=model_objects, model_classes=model_classes, \n",
    "                      model_data_handlers=model_data_handlers, defect_classes=img.defect_classes.tolist())"
   ]
  },
  {
   "cell_type": "code",
   "execution_count": 11,
   "id": "dcb02bb6-6e77-4fee-b5cf-c31c52c60613",
   "metadata": {},
   "outputs": [
    {
     "name": "stdout",
     "output_type": "stream",
     "text": [
      "0 images were rejected\n",
      "0 images were rejected\n",
      "0 were rejected\n",
      "('FrontGridInterruption', 'NearSolderPad') 0.6480444842513808 0.7031527093596059\n",
      "('Closed',) 0.7033777905043007 0.7191937765205092\n",
      "('Isolated',) 0.7459655917599843 0.8077220077220078\n",
      "('BrightSpot',) 0.9663991975927784 0.9942857142857142\n",
      "('Corrosion',) 0.9929789368104314 1.0\n",
      "('Resistive',) 0.7625099681020733 0.8362662337662338\n",
      "{'Overall': (0.7530570401957816, 0.7856605463502015), ('FrontGridInterruption', 'NearSolderPad'): (0.6480444842513808, 0.7031527093596059), ('Closed',): (0.7033777905043007, 0.7191937765205092), ('Isolated',): (0.7459655917599843, 0.8077220077220078), ('BrightSpot',): (0.9663991975927784, 0.9942857142857142), ('Corrosion',): (0.9929789368104314, 1.0), ('Resistive',): (0.7625099681020733, 0.8362662337662338)}\n"
     ]
    }
   ],
   "source": [
    "results = vc.test(filename_df)"
   ]
  },
  {
   "cell_type": "code",
   "execution_count": 12,
   "id": "e826b5cf-0264-4c06-9487-963852f0ff82",
   "metadata": {},
   "outputs": [
    {
     "name": "stdout",
     "output_type": "stream",
     "text": [
      "Overall, 0.7530570401957816, 0.7856605463502015\n",
      "('FrontGridInterruption', 'NearSolderPad'), 0.6480444842513808, 0.7031527093596059\n",
      "('Closed',), 0.7033777905043007, 0.7191937765205092\n",
      "('Isolated',), 0.7459655917599843, 0.8077220077220078\n",
      "('BrightSpot',), 0.9663991975927784, 0.9942857142857142\n",
      "('Corrosion',), 0.9929789368104314, 1.0\n",
      "('Resistive',), 0.7625099681020733, 0.8362662337662338\n"
     ]
    }
   ],
   "source": [
    "for key, value in results.items():\n",
    "    print(f'{key}, {value[0]}, {value[1]}')"
   ]
  }
 ],
 "metadata": {
  "kernelspec": {
   "display_name": "Python 3 (ipykernel)",
   "language": "python",
   "name": "python3"
  },
  "language_info": {
   "codemirror_mode": {
    "name": "ipython",
    "version": 3
   },
   "file_extension": ".py",
   "mimetype": "text/x-python",
   "name": "python",
   "nbconvert_exporter": "python",
   "pygments_lexer": "ipython3",
   "version": "3.7.12"
  }
 },
 "nbformat": 4,
 "nbformat_minor": 5
}
