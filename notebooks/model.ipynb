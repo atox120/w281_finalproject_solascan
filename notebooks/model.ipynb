{
 "cells": [
  {
   "cell_type": "code",
   "execution_count": 1,
   "id": "2167aa27-00d8-4bb9-8018-216d9796120e",
   "metadata": {
    "pycharm": {
     "name": "#%%\n"
    }
   },
   "outputs": [],
   "source": [
    "%load_ext autoreload\n",
    "%autoreload 2"
   ]
  },
  {
   "cell_type": "code",
   "execution_count": 2,
   "id": "bd1831ff-8aa2-4ce7-bc8e-a2b7c567d280",
   "metadata": {
    "pycharm": {
     "name": "#%%\n"
    }
   },
   "outputs": [],
   "source": [
    "import os\n",
    "import sys\n",
    "import copy\n",
    "import time\n",
    "import tabulate\n",
    "import numpy as np\n",
    "from sklearn.linear_model import LogisticRegression\n",
    "from sklearn.ensemble import GradientBoostingClassifier\n",
    "sys.path.append(os.path.join(os.path.abspath(\"\"), \"..\"))"
   ]
  },
  {
   "cell_type": "code",
   "execution_count": 3,
   "id": "fe0c3332-e7d2-47c6-934a-bbbaf14f4724",
   "metadata": {
    "pycharm": {
     "name": "#%%\n"
    }
   },
   "outputs": [],
   "source": [
    "from app import model_features\n",
    "from app.models import Classifier\n",
    "from app.model_features import get_samples, get_data_handler\n",
    "from app.imager import ImageLoader, DefectViewer, Show, Exposure"
   ]
  },
  {
   "cell_type": "markdown",
   "id": "b45486eb-021c-4be4-bb8c-91337db68e83",
   "metadata": {},
   "source": [
    "## Setup"
   ]
  },
  {
   "cell_type": "code",
   "execution_count": 4,
   "id": "42601368-e189-4bc7-aa78-e2553a4ea1c9",
   "metadata": {},
   "outputs": [],
   "source": [
    "# Complimentary:\n",
    "# If True: Split the data as Category and all other\n",
    "# If False: Split the data as Category and None\n",
    "complimentary = False\n",
    "\n",
    "# Maximum number of samples to choose for defects\n",
    "# The other class is 2X this number\n",
    "num_samples = 2000\n",
    "\n",
    "# Seed for plotting\n",
    "seed = 1234"
   ]
  },
  {
   "cell_type": "code",
   "execution_count": 5,
   "id": "11f4e18c",
   "metadata": {
    "pycharm": {
     "name": "#%%\n"
    }
   },
   "outputs": [],
   "source": [
    "# Analyzing which defect types:\n",
    "model_defect_classes = [('FrontGridInterruption', 'NearSolderPad'), 'Closed', 'Isolated' , 'BrightSpot', 'Corrosion']"
   ]
  },
  {
   "cell_type": "code",
   "execution_count": 6,
   "id": "e03fdf37-1fd1-484b-a0a2-c78ec0c02b4f",
   "metadata": {},
   "outputs": [],
   "source": [
    "# These are the model parameters to model with\n",
    "model_params = {('FrontGridInterruption', 'NearSolderPad'): {'class': GradientBoostingClassifier, 'n_estimators': 600, 'max_depth': 4, 'learning_rate': 0.05, 'pca_dims': min(250, num_samples)},\n",
    "                 'Closed': {'class': LogisticRegression,'penalty': 'l2', 'pca_dims': min(200, num_samples)}, \n",
    "                 'Isolated': {'class': GradientBoostingClassifier,'n_estimators': 300, 'max_depth': 4, 'learning_rate': 0.1, 'pca_dims': min(160, num_samples)},\n",
    "                 'BrightSpot': {'class': LogisticRegression,'penalty': 'l2', 'pca_dims': None},\n",
    "                 'Corrosion': {'class': LogisticRegression,'penalty': 'l2', 'pca_dims': None}}"
   ]
  },
  {
   "cell_type": "markdown",
   "id": "2353aded-5cba-4ebb-9150-2627c3a662f4",
   "metadata": {},
   "source": [
    "## Main loop for creating models and running evaluations"
   ]
  },
  {
   "cell_type": "code",
   "execution_count": 8,
   "id": "ee2bf236",
   "metadata": {
    "collapsed": false,
    "jupyter": {
     "outputs_hidden": false
    },
    "pycharm": {
     "name": "#%%\n"
    }
   },
   "outputs": [
    {
     "name": "stdout",
     "output_type": "stream",
     "text": [
      "Working on ('FrontGridInterruption', 'NearSolderPad')\n",
      "None\n",
      " GridInterruption - Preprocessed\n",
      "('FrontGridInterruption', 'NearSolderPad')\n",
      "0.7663281584374149\n",
      "          Pred 0    Pred 1\n",
      "------  --------  --------\n",
      "True 0       618        41\n",
      "True 1       158       232\n"
     ]
    },
    {
     "ename": "KeyboardInterrupt",
     "evalue": "",
     "output_type": "error",
     "traceback": [
      "\u001b[0;31m---------------------------------------------------------------------------\u001b[0m",
      "\u001b[0;31mKeyboardInterrupt\u001b[0m                         Traceback (most recent call last)",
      "\u001b[0;32m/tmp/ipykernel_89021/3159869364.py\u001b[0m in \u001b[0;36m<module>\u001b[0;34m\u001b[0m\n\u001b[1;32m     46\u001b[0m     \u001b[0;31m# Train the classifier\u001b[0m\u001b[0;34m\u001b[0m\u001b[0;34m\u001b[0m\u001b[0;34m\u001b[0m\u001b[0m\n\u001b[1;32m     47\u001b[0m     \u001b[0mcla\u001b[0m \u001b[0;34m=\u001b[0m \u001b[0mClassifier\u001b[0m\u001b[0;34m(\u001b[0m\u001b[0mdefect_\u001b[0m\u001b[0;34m,\u001b[0m \u001b[0mnot_defect_\u001b[0m\u001b[0;34m,\u001b[0m \u001b[0mmodel_class\u001b[0m\u001b[0;34m,\u001b[0m \u001b[0;32mNone\u001b[0m\u001b[0;34m)\u001b[0m\u001b[0;34m\u001b[0m\u001b[0;34m\u001b[0m\u001b[0m\n\u001b[0;32m---> 48\u001b[0;31m     \u001b[0mmodel\u001b[0m \u001b[0;34m=\u001b[0m \u001b[0mcla\u001b[0m\u001b[0;34m.\u001b[0m\u001b[0mfit\u001b[0m\u001b[0;34m(\u001b[0m\u001b[0;34m**\u001b[0m\u001b[0mthis_param\u001b[0m\u001b[0;34m)\u001b[0m\u001b[0;34m\u001b[0m\u001b[0;34m\u001b[0m\u001b[0m\n\u001b[0m\u001b[1;32m     49\u001b[0m \u001b[0;34m\u001b[0m\u001b[0m\n\u001b[1;32m     50\u001b[0m     \u001b[0mmodel_objects\u001b[0m\u001b[0;34m.\u001b[0m\u001b[0mappend\u001b[0m\u001b[0;34m(\u001b[0m\u001b[0mmodel\u001b[0m\u001b[0;34m)\u001b[0m\u001b[0;34m\u001b[0m\u001b[0;34m\u001b[0m\u001b[0m\n",
      "\u001b[0;32m~/Documents/MIDS/w281/w281_finalproject_solascan/notebooks/../app/models.py\u001b[0m in \u001b[0;36mfit\u001b[0;34m(self, **params)\u001b[0m\n\u001b[1;32m    273\u001b[0m \u001b[0;34m\u001b[0m\u001b[0m\n\u001b[1;32m    274\u001b[0m         \u001b[0;31m# Fit the model for the train data\u001b[0m\u001b[0;34m\u001b[0m\u001b[0;34m\u001b[0m\u001b[0;34m\u001b[0m\u001b[0m\n\u001b[0;32m--> 275\u001b[0;31m         \u001b[0mself\u001b[0m\u001b[0;34m.\u001b[0m\u001b[0mmodel\u001b[0m\u001b[0;34m.\u001b[0m\u001b[0mfit\u001b[0m\u001b[0;34m(\u001b[0m\u001b[0mx_train\u001b[0m\u001b[0;34m,\u001b[0m \u001b[0my_train\u001b[0m\u001b[0;34m)\u001b[0m\u001b[0;34m\u001b[0m\u001b[0;34m\u001b[0m\u001b[0m\n\u001b[0m\u001b[1;32m    276\u001b[0m \u001b[0;34m\u001b[0m\u001b[0m\n\u001b[1;32m    277\u001b[0m         \u001b[0;32mreturn\u001b[0m \u001b[0mself\u001b[0m\u001b[0;34m\u001b[0m\u001b[0;34m\u001b[0m\u001b[0m\n",
      "\u001b[0;32m~/anaconda3/envs/w281_final_project/lib/python3.7/site-packages/sklearn/ensemble/_gb.py\u001b[0m in \u001b[0;36mfit\u001b[0;34m(self, X, y, sample_weight, monitor)\u001b[0m\n\u001b[1;32m    594\u001b[0m             \u001b[0msample_weight_val\u001b[0m\u001b[0;34m,\u001b[0m\u001b[0;34m\u001b[0m\u001b[0;34m\u001b[0m\u001b[0m\n\u001b[1;32m    595\u001b[0m             \u001b[0mbegin_at_stage\u001b[0m\u001b[0;34m,\u001b[0m\u001b[0;34m\u001b[0m\u001b[0;34m\u001b[0m\u001b[0m\n\u001b[0;32m--> 596\u001b[0;31m             \u001b[0mmonitor\u001b[0m\u001b[0;34m,\u001b[0m\u001b[0;34m\u001b[0m\u001b[0;34m\u001b[0m\u001b[0m\n\u001b[0m\u001b[1;32m    597\u001b[0m         )\n\u001b[1;32m    598\u001b[0m \u001b[0;34m\u001b[0m\u001b[0m\n",
      "\u001b[0;32m~/anaconda3/envs/w281_final_project/lib/python3.7/site-packages/sklearn/ensemble/_gb.py\u001b[0m in \u001b[0;36m_fit_stages\u001b[0;34m(self, X, y, raw_predictions, sample_weight, random_state, X_val, y_val, sample_weight_val, begin_at_stage, monitor)\u001b[0m\n\u001b[1;32m    670\u001b[0m                 \u001b[0mrandom_state\u001b[0m\u001b[0;34m,\u001b[0m\u001b[0;34m\u001b[0m\u001b[0;34m\u001b[0m\u001b[0m\n\u001b[1;32m    671\u001b[0m                 \u001b[0mX_csc\u001b[0m\u001b[0;34m,\u001b[0m\u001b[0;34m\u001b[0m\u001b[0;34m\u001b[0m\u001b[0m\n\u001b[0;32m--> 672\u001b[0;31m                 \u001b[0mX_csr\u001b[0m\u001b[0;34m,\u001b[0m\u001b[0;34m\u001b[0m\u001b[0;34m\u001b[0m\u001b[0m\n\u001b[0m\u001b[1;32m    673\u001b[0m             )\n\u001b[1;32m    674\u001b[0m \u001b[0;34m\u001b[0m\u001b[0m\n",
      "\u001b[0;32m~/anaconda3/envs/w281_final_project/lib/python3.7/site-packages/sklearn/ensemble/_gb.py\u001b[0m in \u001b[0;36m_fit_stage\u001b[0;34m(self, i, X, y, raw_predictions, sample_weight, sample_mask, random_state, X_csc, X_csr)\u001b[0m\n\u001b[1;32m    244\u001b[0m \u001b[0;34m\u001b[0m\u001b[0m\n\u001b[1;32m    245\u001b[0m             \u001b[0mX\u001b[0m \u001b[0;34m=\u001b[0m \u001b[0mX_csr\u001b[0m \u001b[0;32mif\u001b[0m \u001b[0mX_csr\u001b[0m \u001b[0;32mis\u001b[0m \u001b[0;32mnot\u001b[0m \u001b[0;32mNone\u001b[0m \u001b[0;32melse\u001b[0m \u001b[0mX\u001b[0m\u001b[0;34m\u001b[0m\u001b[0;34m\u001b[0m\u001b[0m\n\u001b[0;32m--> 246\u001b[0;31m             \u001b[0mtree\u001b[0m\u001b[0;34m.\u001b[0m\u001b[0mfit\u001b[0m\u001b[0;34m(\u001b[0m\u001b[0mX\u001b[0m\u001b[0;34m,\u001b[0m \u001b[0mresidual\u001b[0m\u001b[0;34m,\u001b[0m \u001b[0msample_weight\u001b[0m\u001b[0;34m=\u001b[0m\u001b[0msample_weight\u001b[0m\u001b[0;34m,\u001b[0m \u001b[0mcheck_input\u001b[0m\u001b[0;34m=\u001b[0m\u001b[0;32mFalse\u001b[0m\u001b[0;34m)\u001b[0m\u001b[0;34m\u001b[0m\u001b[0;34m\u001b[0m\u001b[0m\n\u001b[0m\u001b[1;32m    247\u001b[0m \u001b[0;34m\u001b[0m\u001b[0m\n\u001b[1;32m    248\u001b[0m             \u001b[0;31m# update tree leaves\u001b[0m\u001b[0;34m\u001b[0m\u001b[0;34m\u001b[0m\u001b[0;34m\u001b[0m\u001b[0m\n",
      "\u001b[0;32m~/anaconda3/envs/w281_final_project/lib/python3.7/site-packages/sklearn/tree/_classes.py\u001b[0m in \u001b[0;36mfit\u001b[0;34m(self, X, y, sample_weight, check_input, X_idx_sorted)\u001b[0m\n\u001b[1;32m   1318\u001b[0m             \u001b[0msample_weight\u001b[0m\u001b[0;34m=\u001b[0m\u001b[0msample_weight\u001b[0m\u001b[0;34m,\u001b[0m\u001b[0;34m\u001b[0m\u001b[0;34m\u001b[0m\u001b[0m\n\u001b[1;32m   1319\u001b[0m             \u001b[0mcheck_input\u001b[0m\u001b[0;34m=\u001b[0m\u001b[0mcheck_input\u001b[0m\u001b[0;34m,\u001b[0m\u001b[0;34m\u001b[0m\u001b[0;34m\u001b[0m\u001b[0m\n\u001b[0;32m-> 1320\u001b[0;31m             \u001b[0mX_idx_sorted\u001b[0m\u001b[0;34m=\u001b[0m\u001b[0mX_idx_sorted\u001b[0m\u001b[0;34m,\u001b[0m\u001b[0;34m\u001b[0m\u001b[0;34m\u001b[0m\u001b[0m\n\u001b[0m\u001b[1;32m   1321\u001b[0m         )\n\u001b[1;32m   1322\u001b[0m         \u001b[0;32mreturn\u001b[0m \u001b[0mself\u001b[0m\u001b[0;34m\u001b[0m\u001b[0;34m\u001b[0m\u001b[0m\n",
      "\u001b[0;32m~/anaconda3/envs/w281_final_project/lib/python3.7/site-packages/sklearn/tree/_classes.py\u001b[0m in \u001b[0;36mfit\u001b[0;34m(self, X, y, sample_weight, check_input, X_idx_sorted)\u001b[0m\n\u001b[1;32m    418\u001b[0m             )\n\u001b[1;32m    419\u001b[0m \u001b[0;34m\u001b[0m\u001b[0m\n\u001b[0;32m--> 420\u001b[0;31m         \u001b[0mbuilder\u001b[0m\u001b[0;34m.\u001b[0m\u001b[0mbuild\u001b[0m\u001b[0;34m(\u001b[0m\u001b[0mself\u001b[0m\u001b[0;34m.\u001b[0m\u001b[0mtree_\u001b[0m\u001b[0;34m,\u001b[0m \u001b[0mX\u001b[0m\u001b[0;34m,\u001b[0m \u001b[0my\u001b[0m\u001b[0;34m,\u001b[0m \u001b[0msample_weight\u001b[0m\u001b[0;34m)\u001b[0m\u001b[0;34m\u001b[0m\u001b[0;34m\u001b[0m\u001b[0m\n\u001b[0m\u001b[1;32m    421\u001b[0m \u001b[0;34m\u001b[0m\u001b[0m\n\u001b[1;32m    422\u001b[0m         \u001b[0;32mif\u001b[0m \u001b[0mself\u001b[0m\u001b[0;34m.\u001b[0m\u001b[0mn_outputs_\u001b[0m \u001b[0;34m==\u001b[0m \u001b[0;36m1\u001b[0m \u001b[0;32mand\u001b[0m \u001b[0mis_classifier\u001b[0m\u001b[0;34m(\u001b[0m\u001b[0mself\u001b[0m\u001b[0;34m)\u001b[0m\u001b[0;34m:\u001b[0m\u001b[0;34m\u001b[0m\u001b[0;34m\u001b[0m\u001b[0m\n",
      "\u001b[0;31mKeyboardInterrupt\u001b[0m: "
     ]
    }
   ],
   "source": [
    "model_objects = []\n",
    "model_classes = []\n",
    "model_data_handlers = []\n",
    "\n",
    "# For each defect class, create the DataSet\n",
    "for defect_classes in model_defect_classes:\n",
    "    print(f'Working on {defect_classes}')\n",
    "    start = time.perf_counter()\n",
    "    model_param = model_params[defect_classes]\n",
    "    \n",
    "    # Get the samples for the model\n",
    "    if isinstance(defect_classes, tuple):\n",
    "        classes = list(defect_classes)\n",
    "    else:\n",
    "        classes = defect_classes\n",
    "    \n",
    "    # Get the data for modeling\n",
    "    defect, not_defect = get_samples(classes, num_samples, complimentary=False)\n",
    "    \n",
    "    # Get the data handler \n",
    "    data_handler = get_data_handler(defect_classes)\n",
    "    \n",
    "    # Get the pre processed data for this \n",
    "    defect_ = data_handler(defect, num_jobs=20)\n",
    "    not_defect_ = data_handler(not_defect, num_jobs=20)\n",
    "    print(not_defect_.category)\n",
    "    \n",
    "    # Show the pre and post processed images\n",
    "    # _ = Show(num_images=2, seed=seed) << (defect, defect_) + (not_defect, not_defect_)\n",
    "    \n",
    "    # Get the parameter for this classifier\n",
    "    this_param = copy.deepcopy(model_param)\n",
    "    model_class = this_param['class']\n",
    "    del this_param['class']\n",
    "    \n",
    "    # Train the classifier \n",
    "    print(defect_classes)\n",
    "    cla = Classifier(defect_, not_defect_, model_class, None)\n",
    "    score = cla.fit_cv(**this_param)\n",
    "    \n",
    "    # Misclassified\n",
    "    print(score)\n",
    "    conf, out = cla.misclassified()\n",
    "    print(tabulate.tabulate([['True 0', conf[0, 0], conf[0, 1]], ['True 1', conf[1, 0], conf[1, 1]]], headers=['', 'Pred 0', 'Pred 1']))\n",
    "    \n",
    "    # Train the classifier \n",
    "    cla = Classifier(defect_, not_defect_, model_class, None)\n",
    "    model = cla.fit(**this_param)\n",
    "    \n",
    "    model_objects.append(model)\n",
    "    model_classes.append(defect_classes)\n",
    "    model_data_handlers.append(data_handler)\n",
    "    \n",
    "    print(f'Completed {defect_classes} in {time.perf_counter()-start}s')"
   ]
  },
  {
   "cell_type": "markdown",
   "id": "edcf47c6-0d3e-4fc1-95b4-ebd7e06f7dc8",
   "metadata": {},
   "source": [
    "## Combine the models together and calculate score"
   ]
  },
  {
   "cell_type": "code",
   "execution_count": null,
   "id": "b496fcda-9941-43a4-921b-b868bb9825cd",
   "metadata": {},
   "outputs": [],
   "source": [
    "img = ImageLoader(defect_class=None, do_train=False)\n",
    "filename_df = img.get(n = 50)\n",
    "filename_df = DefectViewer(row_chop=15, col_chop=15).get(filename_df)"
   ]
  },
  {
   "cell_type": "code",
   "execution_count": null,
   "id": "bfc6ba7a-a8fe-486c-b5a7-f17c82cf6845",
   "metadata": {},
   "outputs": [],
   "source": [
    "from app.models import VectorClassifier\n",
    "vc = VectorClassifier(model_objects=model_objects, model_classes=model_classes,  model_data_handlers=model_data_handlers, defect_classes=img.defect_classes.tolist())"
   ]
  },
  {
   "cell_type": "code",
   "execution_count": null,
   "id": "dcb02bb6-6e77-4fee-b5cf-c31c52c60613",
   "metadata": {},
   "outputs": [],
   "source": [
    "vc.test(filename_df)"
   ]
  }
 ],
 "metadata": {
  "kernelspec": {
   "display_name": "Python 3 (ipykernel)",
   "language": "python",
   "name": "python3"
  },
  "language_info": {
   "codemirror_mode": {
    "name": "ipython",
    "version": 3
   },
   "file_extension": ".py",
   "mimetype": "text/x-python",
   "name": "python",
   "nbconvert_exporter": "python",
   "pygments_lexer": "ipython3",
   "version": "3.7.12"
  }
 },
 "nbformat": 4,
 "nbformat_minor": 5
}
