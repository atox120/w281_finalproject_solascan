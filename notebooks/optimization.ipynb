{
 "cells": [
  {
   "cell_type": "code",
   "execution_count": 1,
   "id": "6056c131-662b-46b3-bdc9-7d21cddc9392",
   "metadata": {},
   "outputs": [],
   "source": [
    "%load_ext autoreload\n",
    "%autoreload 2"
   ]
  },
  {
   "cell_type": "code",
   "execution_count": 2,
   "id": "84a23a10-2f19-4bbc-a829-31d9b9a04299",
   "metadata": {},
   "outputs": [],
   "source": [
    "import os\n",
    "import sys\n",
    "import traceback\n",
    "sys.path.append(os.path.join(os.path.abspath(\"\"), \"..\"))"
   ]
  },
  {
   "cell_type": "code",
   "execution_count": 3,
   "id": "26565a87-b8d1-47ed-9da1-09daaf5ade62",
   "metadata": {},
   "outputs": [],
   "source": [
    "from sklearn.linear_model import LogisticRegression\n",
    "from app.models import Classifier\n",
    "from app.evolutionary import Evolver\n",
    "from app.imager import ImageLoader, DefectViewer\n",
    "from app.custom import Orient, HighlightFrontGrid"
   ]
  },
  {
   "cell_type": "code",
   "execution_count": 4,
   "id": "b89303c5-74a8-4966-a0ec-5bdd67ac6bbf",
   "metadata": {},
   "outputs": [],
   "source": [
    "# This is the data processing and model we are trying to optimize\n",
    "class OptimizeModel:\n",
    "    def __init__(self, defect, clean):\n",
    "        self.defect = defect\n",
    "        self.clean = clean\n",
    "        # Setting up default parameters which will then be overridden by the get function\n",
    "        self.default_params = {'penalty': 'l2', 'seed': 14376, 'pca_dims': None, 'num_jobs': 20, 'reduce_max': 1,\n",
    "                               'finger_mult': 1}\n",
    "\n",
    "    def get(self, **kwargs):\n",
    "        \"\"\"\n",
    "        Optimizer assumes there is a get function  and calls it with the list of parameters\n",
    "        \"\"\"\n",
    "        \n",
    "        # noinspection PyBroadException\n",
    "        try:\n",
    "            # The default dictionary is updated with input values\n",
    "            self.default_params.update(kwargs)\n",
    "            \n",
    "            # Call the Classifier with inputs:\n",
    "            # 1. Image wrapper with defects\n",
    "            # 2. Image wrapper with clean images\n",
    "            # 3. The model class\n",
    "            # 4. The data manipulation class\n",
    "            cla = Classifier(self.defect.copy(), self.clean.copy(), LogisticRegression, HighlightFrontGrid)\n",
    "            \n",
    "            # When done, return the score \n",
    "            score = -cla.fit(**self.default_params)\n",
    "            return score\n",
    "        except Exception:\n",
    "            #  Print any expcetions and return it as a string\n",
    "            exc_type, exc_value, exc_traceback = sys.exc_info()\n",
    "            lines = traceback.format_exception(exc_type, exc_value, exc_traceback)\n",
    "            strng = 'Exception: '.join('!! ' + line for line in lines)\n",
    "            print(strng)\n",
    "            return strng"
   ]
  },
  {
   "cell_type": "code",
   "execution_count": 5,
   "id": "e5c9cf2d-9e68-48f8-bceb-83592895304a",
   "metadata": {},
   "outputs": [],
   "source": [
    "n_samples = 400\n",
    "defect = (DefectViewer(row_chop=25, col_chop=25) << (ImageLoader(defect_class='FrontGridInterruption') << n_samples))\n",
    "defect.category = 'FrontGridInterruption'\n",
    "clean = (DefectViewer(row_chop=25, col_chop=25) << (ImageLoader(defect_class='None') << n_samples))\n",
    "clean.category = 'None'\n",
    "\n",
    "# Get the oriented images and HOG\n",
    "oriented_defect = Orient(num_jobs=20) << defect\n",
    "oriented_clean = Orient(num_jobs=20) << clean"
   ]
  },
  {
   "cell_type": "code",
   "execution_count": 8,
   "id": "a5c47053-6f62-40ec-900a-0dccb8d5e429",
   "metadata": {},
   "outputs": [],
   "source": [
    "# Create an evolver class with the parameters to optimize\n",
    "# Idelally this shoudl be parallelizable but for whatever reason it hangs. Set num_jobs to 1 for that reason\n",
    "evo = Evolver(OptimizeModel,{'defect': oriented_defect[-1], 'clean': oriented_clean[-1]}, num_jobs=1)\n",
    "\n",
    "# The format for adding features is\n",
    "# name, minimum value, maximum value, data type (int or float)\n",
    "evo.add_feature('num_jobs', 20, 20, int)\n",
    "evo.add_feature('reduce_max', 0, 1, int)\n",
    "evo.add_feature('padding_mult', 3, 20, int)\n",
    "evo.add_feature('finger_mult', 0, 100, float)\n",
    "evo.add_feature('finger_height', 3, 50, int)\n",
    "evo.add_feature('max_finger_width', 3, 9, int)\n",
    "evo.add_feature('pca_dims', 1, n_samples-1, int)"
   ]
  },
  {
   "cell_type": "code",
   "execution_count": null,
   "id": "5d109496-0bab-4a1d-972e-5ed21120caed",
   "metadata": {},
   "outputs": [
    {
     "name": "stdout",
     "output_type": "stream",
     "text": [
      "Starting generation 0\n",
      "    Starting response collection\n",
      "        Completed chunk in 55.387405765999574s\n",
      "        Completed chunk in 18.67750803400122s\n",
      "        Completed chunk in 91.83572154700232s\n"
     ]
    }
   ],
   "source": [
    "results_df = evo.run(num_samples=30, generations=40)"
   ]
  }
 ],
 "metadata": {
  "kernelspec": {
   "display_name": "Python [conda env:w281_final_project] *",
   "language": "python",
   "name": "conda-env-w281_final_project-py"
  },
  "language_info": {
   "codemirror_mode": {
    "name": "ipython",
    "version": 3
   },
   "file_extension": ".py",
   "mimetype": "text/x-python",
   "name": "python",
   "nbconvert_exporter": "python",
   "pygments_lexer": "ipython3",
   "version": "3.7.12"
  }
 },
 "nbformat": 4,
 "nbformat_minor": 5
}
